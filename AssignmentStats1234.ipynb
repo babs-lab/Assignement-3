{
 "cells": [
  {
   "cell_type": "markdown",
   "metadata": {},
   "source": [
    "# Statistics"
   ]
  },
  {
   "cell_type": "markdown",
   "metadata": {},
   "source": [
    "<h1>2.1. Problem Statement: STATISTICS 1 </h1>"
   ]
  },
  {
   "cell_type": "markdown",
   "metadata": {},
   "source": [
    "1.You survey households in your area to find the average rent they are paying. Find the standard deviation from the following data: \n",
    "$1550, $1700, $900, $850, $1000, $950."
   ]
  },
  {
   "cell_type": "code",
   "execution_count": 4,
   "metadata": {},
   "outputs": [
    {
     "name": "stdout",
     "output_type": "stream",
     "text": [
      "Standard Deviation:  335.927\n"
     ]
    }
   ],
   "source": [
    "# Variance and Standard deviation\n",
    "import math \n",
    "\n",
    "def standardDeviation(arr, n): \n",
    "\n",
    "    return math.sqrt(variance(arr, n)) \n",
    "\n",
    "# Driver Code \n",
    "arr = [1550, 1700, 900,850, 1000,950] \n",
    "n = len(arr) \n",
    "print(\"Standard Deviation: \", \n",
    "    round(standardDeviation(arr, n), 3)) "
   ]
  },
  {
   "cell_type": "markdown",
   "metadata": {},
   "source": [
    "2. Find the variance for the following set of data representing trees in California (heights in feet): 3, 21, 98, 203, 17, 9"
   ]
  },
  {
   "cell_type": "code",
   "execution_count": 3,
   "metadata": {},
   "outputs": [
    {
     "name": "stdout",
     "output_type": "stream",
     "text": [
      "Variance:  5183\n"
     ]
    }
   ],
   "source": [
    "# Function for variance \n",
    "def variance(a, n): \n",
    "\n",
    "    sum = 0\n",
    "    for i in range(0 ,n): \n",
    "        sum += a[i] \n",
    "    mean = sum /n \n",
    "\n",
    "    sqDiff = 0\n",
    "    for i in range(0 ,n): \n",
    "        sqDiff += ((a[i] - mean) \n",
    "                * (a[i] - mean)) \n",
    "    return sqDiff / n\n",
    "\n",
    "arr = [3, 21, 98, 203, 17, 9] \n",
    "n = len(arr) \n",
    "print(\"Variance: \", int(variance(arr, n))) "
   ]
  },
  {
   "cell_type": "markdown",
   "metadata": {},
   "source": [
    "3. In a class on 100 students, 80 students passed in all subjects, 10 failed in one subject, 7 failed in two subjects and 3 failed in three subjects. Find the probability distribution of the variable for number of subjects a student from the given class has failed in. (<b>Please see Word document attached to the repository</b>)"
   ]
  },
  {
   "cell_type": "markdown",
   "metadata": {},
   "source": [
    "<h1>2.2. Problem Statement: STATISTICS 2 </h1>"
   ]
  },
  {
   "cell_type": "markdown",
   "metadata": {},
   "source": [
    "1. A test is conducted which is consisting of 20 MCQs (multiple choices questions) with every MCQ having its four options out of which only one is correct. Determine the probability that a person undertaking that test has answered exactly 5 questions wrong. (<b>Please see Word document attached to the repository</b>)"
   ]
  },
  {
   "cell_type": "code",
   "execution_count": 12,
   "metadata": {},
   "outputs": [
    {
     "name": "stdout",
     "output_type": "stream",
     "text": [
      "The probability that a person undertaking that test has answered exactly 5 questions wrong is = 0.0000034\n"
     ]
    }
   ],
   "source": [
    "# Total questions / number of trials\n",
    "n = 20 \n",
    "\n",
    "# Find probability of answering exactly 5 questions wrong or exactly 15 questions right.\n",
    "x = 15 \n",
    "\n",
    "# Probability of success (1 correct answer out of 4 multiple choices)\n",
    "ps = 1/4 \n",
    "\n",
    "# Probability of failure\n",
    "pf = 3/4 \n",
    "\n",
    "px = (math.factorial(n) / (math.factorial(x) * math.factorial(n-x))) * pow(ps, x) * pow(pf, n-x)\n",
    "\n",
    "print(\"The probability that a person undertaking that test has answered exactly 5 questions wrong is =\", format(px, '.7f'))"
   ]
  },
  {
   "cell_type": "markdown",
   "metadata": {},
   "source": [
    "2. A die marked A to E is rolled 50 times. Find the probability of getting a “D” exactly 5 times (<h5><b>Please see Word document attached to the repository</b></h5>)"
   ]
  },
  {
   "cell_type": "markdown",
   "metadata": {},
   "source": [
    "Two balls are drawn at random in succession without replacement from an urn containing 4 red balls and 6 black balls. \n",
    "Find the probabilities of all the possible outcomes (<b>Please see Word document attached to the repository</b>)"
   ]
  },
  {
   "cell_type": "markdown",
   "metadata": {},
   "source": [
    "<h1>2.1. Problem Statement: STATISTICS 3 </h1>"
   ]
  },
  {
   "cell_type": "markdown",
   "metadata": {},
   "source": [
    "Blood glucose levels for obese patients have a mean of 100 with a standard deviation of  15. A researcher thinks that a diet high in raw cornstarch will have a positive effect on blood glucose levels. A sample of 36 patients who have tried the raw cornstarch diet have a mean glucose level of 108. Test the hypothesis that the raw cornstarch had an effect or not"
   ]
  },
  {
   "cell_type": "code",
   "execution_count": 6,
   "metadata": {},
   "outputs": [
    {
     "name": "stdout",
     "output_type": "stream",
     "text": [
      "Z Score : 3.2\n"
     ]
    }
   ],
   "source": [
    "import math\n",
    "nb_sample_patient = 36\n",
    "glucose_mean = 108\n",
    "patient_mean = 100\n",
    "std  = 15\n",
    "\n",
    "# --------STEP 1 Hypothesis----------\n",
    "#First, we have to state the hypotheses. We set our NULL Hypothesis to be the glucose variable = 100 since that's the known fact. The alternative is that the glucose variable is greater than 100.\n",
    "\n",
    "#---------STEP 2 Significance Level--------------\n",
    "#Unless specified, we typically set the significance level to 5%, or 0.05. Now, if we figure out the corresponding z-value from the z-table, we'll see that it corresponds to 1.645. This is now the z-score cut off for significance level, meaning the area to the right (or z-scores higher than 1.645) is the rejection hypothesis space.\n",
    "\n",
    "#---------STEP 3 z-score Calculation--------------\n",
    "#Now, we can compute the random chance probability using z scores and the z-table. Recall the formula from earlier, z = (x - μ)/ σ. Now, before we go into computing, let's overview the difference between standard deviation of the mean and standard deviation of the distribution.\n",
    "#When we want to gain a sense the precision of the mean, we calculate what is called the sample distribution of the mean. Assuming statistical independence, the standard deviation of the mean is related to the standard deviation of the distribution with the formula σmean = &sigma / √N.\n",
    "#With that knowledge in mind, we've been given the standard deviation of the distribution, but we need the standard deviation of the mean instead. So before we begin calculating the z value, we plug in the values for the formula above. Then we get σmean = 15 / √36, or 2.5.\n",
    "#Now we have all the needed information to compute the z value:\n",
    "z = (glucose_mean - patient_mean) / (std /math.sqrt(nb_sample_patient))\n",
    "print(\"Z Score :\",z)\n",
    "\n",
    "#---------STEP 4 Hypotheses--------------------\n",
    "#we can get the p-value from the z-value above. We see that it corresponds to .9993, \n",
    "#but we have to remember to subtract this number from 1, making our p-value 0.0007. \n",
    "#Recall that a p-value below 0.05 is grounds for rejecting the null hypothesis. \n",
    "#There, we do just that and conclude that there is an effect from the raw starch."
   ]
  },
  {
   "cell_type": "markdown",
   "metadata": {},
   "source": [
    "1. In one state, 52% of the voters are Republicans, and 48% are Democrats. In a second state, 47% of the voters are Republicans, and 53% are Democrats. Suppose a simple random sample of 100 voters are surveyed from each state. \n",
    "What is the probability that the survey will show a greater percentage of Republican voters in the second state than in the first state? "
   ]
  },
  {
   "cell_type": "code",
   "execution_count": 8,
   "metadata": {},
   "outputs": [
    {
     "name": "stdout",
     "output_type": "stream",
     "text": [
      "Mu :  0.050000000000000044 Std :  0.07061869440877536\n",
      "Z-score(p1,p2) :  -0.7080278164104213\n"
     ]
    }
   ],
   "source": [
    "#P1 = the proportion of Republican voters in the first state\n",
    "#P2 = the proportion of Republican voters in the second state\n",
    "#p1 = the proportion of Republican voters in the sample from the first state\n",
    "#p2 = the proportion of Republican voters in the sample from the second state. \n",
    "\n",
    "#Sample from the first state n1\n",
    "n1 = 100\n",
    "#Sample from the second state n2\n",
    "n2 = 100\n",
    "\n",
    "P1 = 0.52\n",
    "#(1 - P1) = Q1\n",
    "Q1 = 0.48\n",
    "P2 = 0.47\n",
    "#(1 - P2) = Q2\n",
    "Q2 = 0.53\n",
    "\n",
    "\n",
    "#The mean of the difference in sample proportions .i.e Expected Value E[p1 -p2] = P1 - P2 = mu\n",
    "mu =  P1 - P2\n",
    "\n",
    "#The standard deviation of the difference (std)\n",
    "std = math.sqrt(((P1 * Q1 ) / n1) + ((P2 * Q2) /n2))\n",
    "print(\"Mu : \",mu,\"Std : \",std)\n",
    "#This problem requires us to find the probability that p1 is less than p2. \n",
    "#This is equivalent to finding the probability that p1 - p2 < 0. \n",
    "x = 0\n",
    "#To find this probability, we need to transform the random variable (p1 - p2) into a z-score. \n",
    "#That transformation appears below.\n",
    "Zp1_p2 = ( x - mu)/std\n",
    "\n",
    "print(\"Z-score(p1,p2) : \",Zp1_p2)\n",
    "\n",
    "#From Z table we find that the probability of a z-score being -0.7082 or less is 0.24.\n",
    "\n",
    "#Therefore, the probability that the survey will show a greater percentage of Republican voters \n",
    "#in the second state than in the first state is 0.24."
   ]
  },
  {
   "cell_type": "markdown",
   "metadata": {},
   "source": [
    "2. You take the SAT and score 1100. The mean score for the SAT is 1026 and the standard deviation is 209. How well did you score on the test compared to the average test taker?"
   ]
  },
  {
   "cell_type": "code",
   "execution_count": 11,
   "metadata": {},
   "outputs": [
    {
     "name": "stdout",
     "output_type": "stream",
     "text": [
      "Z Score :  0.35406698564593303\n",
      "My Score is in the range 817 - 1235  with a  zscore 0.35\n"
     ]
    }
   ],
   "source": [
    "#The z score tells you how many standard deviations from the mean your score is\n",
    "x = 1100 # Score\n",
    "pop_mean = 1026 # Population Mean\n",
    "std = 209 #population standard deviation\n",
    "z = ( x - pop_mean)/std\n",
    "print(\"Z Score : \",z)\n",
    "#the above calculation shows that my score is 0.35 standard deviations above the mean\n",
    "print(\"My Score is in the range {} - {}  with a  zscore {:.2f}\".format(pop_mean - std,pop_mean + std,z))"
   ]
  },
  {
   "cell_type": "markdown",
   "metadata": {},
   "source": [
    "<h1>2.1. Problem Statement: STATISTICS 4 </h1>"
   ]
  },
  {
   "cell_type": "markdown",
   "metadata": {},
   "source": [
    "1. Is gender independent of education level? A random sample of 395 people were surveyed and each person was asked to report the highest education level they obtained. The data that resulted from the survey is summarized in the following table: \n",
    " \n",
    "        High-School    Bachelor    Masters Ph.D.   Total \n",
    "Female      60            54         46     41      201   \n",
    "Male        40            44         53     57      194 \n",
    "Total       100           98         99     98      395 \n",
    " \n",
    "Question: Are gender and education level dependent at 5% level of significance? In other words, given the data collected above, is there a relationship between the gender of an individual and the level of education that they have obtained? <b> (Please see attached Excel file)</b>"
   ]
  },
  {
   "cell_type": "markdown",
   "metadata": {},
   "source": [
    "2. Using the following data, perform a one-way analysis of variance using α=.05. Write up the results in APA format. \n",
    " \n",
    "[Group1: 51, 45, 33, 45, 67] <br/>\n",
    "[Group2: 23, 43, 23, 43, 45] <br/>\n",
    "[Group3: 56, 76, 74, 87, 56] <br/>\n",
    "<b>Please see attached EXcel File</b>"
   ]
  },
  {
   "cell_type": "markdown",
   "metadata": {},
   "source": [
    "3. Calculate F Test for given 10, 20, 30, 40, 50 and 5,10,15, 20, 25. \n",
    " \n",
    "For 10, 20, 30, 40, 50: "
   ]
  },
  {
   "cell_type": "code",
   "execution_count": null,
   "metadata": {},
   "outputs": [],
   "source": []
  }
 ],
 "metadata": {
  "kernelspec": {
   "display_name": "Python 3",
   "language": "python",
   "name": "python3"
  },
  "language_info": {
   "codemirror_mode": {
    "name": "ipython",
    "version": 3
   },
   "file_extension": ".py",
   "mimetype": "text/x-python",
   "name": "python",
   "nbconvert_exporter": "python",
   "pygments_lexer": "ipython3",
   "version": "3.7.3"
  }
 },
 "nbformat": 4,
 "nbformat_minor": 2
}
